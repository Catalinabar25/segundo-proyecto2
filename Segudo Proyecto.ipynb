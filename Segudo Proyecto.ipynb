{
 "cells": [
  {
   "cell_type": "markdown",
   "id": "a198025d-548f-43e7-900e-cee7b9aaaf26",
   "metadata": {},
   "source": [
    "# Análisis de Ventas de una Tienda Online Minorista \n",
    "\n",
    "Este dataset contiene los registros de transacciones de una tienda online minorista con sede en el Reino Unido, que opera a nivel internacional. La tienda vende productos variados, como \"White Hanging Heart T-Light Holder\", \"White Metal Lantern\", \"Cream Cupid Hearts Coat Hanger\" y \"Knitted Union Flag Hot Water Bottle\". Las transacciones, iniciadas al desde diciembre de 2010 , incluyen compras y devoluciones realizadas por clientes identificados (`CustomerID`) y anónimos, en diversos países, con un ejemplo inicial de \"United Kingdom\".\n",
    "\n",
    "La gerencia de esta tienda busca analizar estos datos para entender su rendimiento comercial, optimizar el inventario, mejorar la experiencia del cliente y aumentar los ingresos en un entorno donde las tendencias temporales y las dinámicas de mercado son críticas."
   ]
  },
  {
   "cell_type": "markdown",
   "id": "9136b1c7-15dd-4b25-a3aa-1f4f26e747a4",
   "metadata": {},
   "source": [
    "## Pasos a seguir\n",
    "\n",
    "- familiarizarse con el dataset\n",
    "- limpieza de datos\n",
    "- tratamiento de datos faltantes \n",
    "- tratamiento de datos duplicados\n",
    "- asignar fecha como indice\n",
    "- calcular totalventa\n",
    "- evaluar valores atipicos, Quantity\n",
    "- categorizar las compras hechas con una nueva columna (pista: funcion apply)\n",
    "- obtener columnas de año, y mes para un analisis temporal\n",
    "- obtener ranking de los 3 paises con mejores ventas\n",
    "- obtener las ventas por semestre en el ultimo año y graficar\n",
    "- obtener las ventas por trimestre en el ultimo año y graficar\n",
    "- obtener las proporciones de categorias de gastos y graficar\n",
    "- obtener el top 10 productos mas vendidos"
   ]
  },
  {
   "cell_type": "code",
   "execution_count": null,
   "id": "50b1487a-63bf-4e3a-a7c6-e9e78f7ddb86",
   "metadata": {},
   "outputs": [],
   "source": []
  }
 ],
 "metadata": {
  "kernelspec": {
   "display_name": "Python 3 (ipykernel)",
   "language": "python",
   "name": "python3"
  },
  "language_info": {
   "codemirror_mode": {
    "name": "ipython",
    "version": 3
   },
   "file_extension": ".py",
   "mimetype": "text/x-python",
   "name": "python",
   "nbconvert_exporter": "python",
   "pygments_lexer": "ipython3",
   "version": "3.13.2"
  }
 },
 "nbformat": 4,
 "nbformat_minor": 5
}
