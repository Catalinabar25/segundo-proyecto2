{
 "cells": [
  {
   "cell_type": "markdown",
   "metadata": {},
   "source": [
    "## Matplotlib"
   ]
  },
  {
   "cell_type": "markdown",
   "metadata": {},
   "source": [
    "https://matplotlib.org/gallery/index.html es una excelente página para consultar si busca información sobre cómo crear un tipo específico de gráfico."
   ]
  },
  {
   "cell_type": "markdown",
   "metadata": {},
   "source": [
    "### Import"
   ]
  },
  {
   "cell_type": "code",
   "execution_count": null,
   "metadata": {},
   "outputs": [],
   "source": [
    "import matplotlib.pyplot as plt\n",
    "import numpy as np\n",
    "import pandas as pd"
   ]
  },
  {
   "cell_type": "code",
   "execution_count": null,
   "metadata": {},
   "outputs": [],
   "source": [
    "%matplotlib inline"
   ]
  },
  {
   "cell_type": "markdown",
   "metadata": {},
   "source": [
    "### Graficas basicas"
   ]
  },
  {
   "cell_type": "code",
   "execution_count": null,
   "metadata": {},
   "outputs": [],
   "source": [
    "# Crear arreglos NumPy x e y (números flotantes de 0 a 5)\n",
    "# Cualquier arreglo NumPy servirá para los puntos x e y siempre que tenga\n",
    "# un número igual de elementos\n",
    "\n",
    "x_1 = np.linspace(0,5,10)\n",
    "y_1 = x_1**2\n",
    "\n",
    "# Mostrar gráfico con x e y\n",
    "\n",
    "plt.plot(x_1, y_1)\n",
    "\n",
    "# Agregar un título\n",
    "\n",
    "plt.title('Grafica cuadratica')\n",
    "\n",
    "# Agregar una etiqueta X e Y\n",
    "\n",
    "plt.xlabel('X')\n",
    "plt.ylabel('f(X)')\n",
    "\n",
    "# Si no está en Jupyter Notebook, utilice\n",
    "\n",
    "plt.show()"
   ]
  },
  {
   "cell_type": "markdown",
   "metadata": {},
   "source": [
    "### Mostrar Graficos Multiples"
   ]
  },
  {
   "cell_type": "code",
   "execution_count": null,
   "metadata": {},
   "outputs": [],
   "source": [
    "# Se puede imprimir varios gráficos a la vez\n",
    "# Define la fila y la columna para imprimir el gráfico con un número asignado\n",
    "# al gráfico\n",
    "\n",
    "plt.subplot(1,2,1)\n",
    "\n",
    "# Podemos darle color a la linea\n",
    "plt.plot(x_1,y_1,'r')\n",
    "\n",
    "plt.subplot(1,2,2)\n",
    "plt.plot(y_1,x_1,'b')"
   ]
  },
  {
   "cell_type": "markdown",
   "metadata": {},
   "source": [
    "### Usando el objeto Figure"
   ]
  },
  {
   "cell_type": "code",
   "execution_count": null,
   "metadata": {},
   "outputs": [],
   "source": [
    "# Una figura es un objeto que contiene todos los elementos del gráfico.\n",
    "# Puede contener varios ejes.\n",
    "# Define el ancho y la altura en pulgadas.\n",
    "# Puntos por pulgada.\n",
    "\n",
    "fig_1 = plt.figure(figsize=(5,4),dpi=100)\n",
    "\n",
    "# Agrega ejes con un ancho y una altura izquierdo y inferior que van de 0 a 1.\n",
    "# que representa el porcentaje del lienzo que desea utilizar.\n",
    "\n",
    "axes_1 = fig_1.add_axes([0.1,0.1,0.9,0.9])\n",
    "\n",
    "# Establece etiquetas y título.\n",
    "\n",
    "axes_1.set_xlabel('X')\n",
    "axes_1.set_ylabel('f(X)')\n",
    "axes_1.set_title('Funcion Cuadratica')\n",
    "\n",
    "# Traza en los ejes (si desea una etiqueta asociada a la leyenda,\n",
    "# agréguela con etiqueta)\n",
    "\n",
    "axes_1.plot(x_1,y_1,label='linea 1')\n",
    "\n",
    "# Puedes trazar gráficos usando los mismos ejes.\n",
    "\n",
    "axes_1.plot(y_1,x_1,label='linea 2')\n",
    "\n",
    "# Agrega la leyenda opcional con un número de ubicación (mejor: 0, # superior derecha: 1, superior izquierda: 2, inferior izquierda: 3, inferior derecha: 4,\n",
    "# https://matplotlib.org/3.3.1/api/_as_gen/matplotlib.pyplot.legend.html)\n",
    "# o proporciona una tupla de x e y desde la inferior izquierda.\n",
    "\n",
    "axes_1.legend(loc=0)\n",
    "\n",
    "# Puedes crear ejes dentro de otros.\n",
    "\n",
    "axes_2 = fig_1.add_axes([0.45,0.45,0.4,0.3])\n",
    "axes_2.set_xlabel('X')\n",
    "axes_2.set_ylabel('f(X)')\n",
    "axes_2.set_title('Funcion cuadratica')\n",
    "axes_2.plot(x_1,y_1,'r')\n",
    "\n",
    "# Agregar texto al gráfico desde el punto central de 0,0\n",
    "\n",
    "axes_2.text(0, 40, 'Un texto')\n"
   ]
  },
  {
   "cell_type": "markdown",
   "metadata": {},
   "source": [
    "### SubPlots"
   ]
  },
  {
   "cell_type": "code",
   "execution_count": null,
   "metadata": {},
   "outputs": [],
   "source": [
    "# Puedes definir múltiples gráficos con subgráficos y se encarga de crear\n",
    "# los objetos de ejes\n",
    "# axes_2 es una lista de objetos de ejes\n",
    "\n",
    "fig_2, axes_2 = plt.subplots(figsize=(8,4), nrows=1, ncols=3)\n",
    "\n",
    "# Alinear los graficos\n",
    "\n",
    "plt.tight_layout()\n",
    "\n",
    "# Podemos definir la ubicacion de los graficos por indice\n",
    "axes_2[1].set_title('grafico 2')\n",
    "axes_2[1].set_xlabel('X')\n",
    "axes_2[1].set_ylabel('X cuadrado')\n",
    "axes_2[1].plot(x_1,y_1)"
   ]
  },
  {
   "cell_type": "markdown",
   "metadata": {},
   "source": [
    "### Opciones de Apariencia"
   ]
  },
  {
   "cell_type": "code",
   "execution_count": null,
   "metadata": {},
   "outputs": [],
   "source": [
    "fig_3 = plt.figure(figsize=(6,4))\n",
    "axes_3 = fig_3.add_axes([0,0,1,1])\n",
    "\n",
    "# Colores predeterminados (b: azul, g: verde, r: rojo, c: cian, m: magenta, y: amarillo, k: negro, w: blanco)\n",
    "# color=\"0.75\" crea un gris del 75%\n",
    "# Puedes usar códigos hexadecimales color=\"#eeefff\"\n",
    "# Puedes usar los nombres de color que se encuentran a continuación, como color=\"burlywood\"\n",
    "# https://en.wikipedia.org/wiki/Web_colors\n",
    "# alpha define el porcentaje de opacidad\n",
    "\n",
    "# El ancho de línea predeterminado es 1; para duplicarlo, añade 2, y así sucesivamente.\n",
    "\n",
    "# Hay muchos estilos de línea.\n",
    "# matplotlib.org/3.1.0/gallery/lines_bars_and_markers/linestyles.html\n",
    "# También puedes proporcionar un ejemplo como '-'.\n",
    "\n",
    "# Los marcadores pueden marcar los puntos proporcionados en el gráfico\n",
    "# https://matplotlib.org/3.3.0/api/markers_api.html\n",
    "# También puedes cambiar el tamaño del marcador\n",
    "\n",
    "# \"markerfacecolor\" cambia el color de relleno del marcador\n",
    "# \"markeredgecolor\" cambia el color del trazo del marcador\n",
    "# \"markeredgewidth\" cambia el tamaño del trazo del marcador\n",
    "\n",
    "\n",
    "axes_3.plot(x_1,y_1, color='green', alpha=.75, lw=2, ls='-.',\n",
    "           marker='o', markersize=7, markerfacecolor='y',\n",
    "           markeredgecolor='y', markeredgewidth=4)\n",
    "\n",
    "# Establezca el límite inferior y superior de los ejes x e y\n",
    "\n",
    "axes_3.set_xlim([0,3])\n",
    "axes_3.set_ylim([0,8])\n",
    "\n",
    "\n",
    "# Agregar una cuadrícula, color, guiones (guiones de 5 puntos y 1 punto separados por un espacio de 2 puntos)\n",
    "\n",
    "axes_3.grid(True, color='0.6', dashes=(5,2,1,2))\n",
    "# Agregar color de fondo\n",
    "axes_3.set_facecolor('#FAEBD7')\n"
   ]
  },
  {
   "cell_type": "markdown",
   "metadata": {},
   "source": [
    "### Guardar grafico"
   ]
  },
  {
   "cell_type": "code",
   "execution_count": null,
   "metadata": {},
   "outputs": [],
   "source": [
    "# Puede guardar sus gráficos en numerosos tipos de archivos: png, pdf, ps, eps, SVG, pgf,\n",
    "\n",
    "fig_3.savefig('1st_plot.png')"
   ]
  },
  {
   "cell_type": "markdown",
   "metadata": {},
   "source": [
    "### Trabanjando con DataFrames"
   ]
  },
  {
   "cell_type": "code",
   "execution_count": null,
   "metadata": {},
   "outputs": [],
   "source": [
    "# Leer los datos de ventas de helados\n",
    "\n",
    "ics_df = pd.read_csv('icecreamsales.csv')\n",
    "ics_df = ics_df.sort_values(by='Temperature')\n",
    "\n",
    "# Convertir de Pandas a una matriz NumPy\n",
    "np_arr = ics_df.values\n",
    "\n",
    "# Obtener valores x e y y colocarlos en una matriz\n",
    "x_2 = np_arr[:,0]\n",
    "y_2 = np_arr[:,1]\n",
    "\n",
    "fig_4 = plt.figure(figsize=(6,4))\n",
    "axes_4 = fig_4.add_axes([0,0,1,1])\n",
    "axes_4.set_title('Ventas de helados vs. Temperatura')\n",
    "axes_4.set_xlabel('Temperatura')\n",
    "axes_4.set_ylabel('Venta de helados')\n",
    "axes_4.plot(x_2,y_2)\n",
    "\n",
    "# Agregue anotaciones indicando los ejes x e y y la posición del texto.\n",
    "# Basado en la esquina inferior izquierda, siendo 0,0.\n",
    "axes_4.annotate('Mejor mes', xy=(83, 536), xytext=(60, 520),\n",
    "             arrowprops=dict(facecolor='black', shrink=0.05),)\n",
    "\n",
    "# Agregar barras al gráfico\n",
    "plt.bar(x_2,y_2)"
   ]
  },
  {
   "cell_type": "markdown",
   "metadata": {},
   "source": [
    "### TeX Markup"
   ]
  },
  {
   "cell_type": "code",
   "execution_count": null,
   "metadata": {},
   "outputs": [],
   "source": [
    "# Puedes usar un subconjunto del marcado TeX colocando texto entre $\n",
    "# matplotlib.org/tutorials/text/mathtext.html\n",
    "\n",
    "fig_5 = plt.figure(figsize=(5,7),dpi=100)\n",
    "axes_5 = fig_5.add_axes([0.1,0.1,0.9,0.9])\n",
    "\n",
    "# Todos los valores listados, además de kappa, iota, zeta, nu, rho, eta, xi, ómicron, gamma, tau, phi.\n",
    "# chi, psi, delta (Escribir la primera letra en mayúscula).\n",
    "\n",
    "axes_5.text(0, 23, \n",
    "            r'$\\alpha \\beta \\sigma \\omega \\epsilon \\mu \\pi \\theta \\lambda$', fontsize=18)\n",
    "\n",
    "# Subíndices, superíndices de varias letras, suma, fracciones, binomios\n",
    "\n",
    "axes_5.text(0, 18, \n",
    "            r'$\\delta_i \\gamma^{ij} \\sum_{i=0}^\\infty x_i \\frac{3}{4} \\binom{3}{4}$', \n",
    "            fontsize=18)\n",
    "\n",
    "# Otras funciones de fracción, sqrt, cbrt y trigonométricas:\n",
    "\n",
    "axes_5.text(0, 13, \n",
    "            r'$\\frac{8 - \\frac{x}{5}}{8} \\sqrt{9} \\sin(\\pi) \\sqrt[3]{8} \\acute a \\div$', \n",
    "            fontsize=18)\n",
    "axes_5.text(0, 8, \n",
    "            r'$\\bar a \\hat a \\tilde a \\vec a \\overline {a} \\lim_{x \\to 2} f(x) = 5$', \n",
    "            fontsize=18)\n",
    "axes_5.text(0, 3, \n",
    "            r'$\\geq \\leq \\ne$', \n",
    "            fontsize=18)\n",
    "axes_5.plot(x_1,y_1)\n"
   ]
  },
  {
   "cell_type": "markdown",
   "metadata": {},
   "source": [
    "### Histogramas"
   ]
  },
  {
   "cell_type": "code",
   "execution_count": null,
   "metadata": {},
   "outputs": [],
   "source": [
    "# Tira 2 dados de 6 caras, obtén la suma y traza el histograma\n",
    "arr_1 = np.random.randint(1,7,5000)\n",
    "arr_2 = np.random.randint(1,7,5000)\n",
    "arr_3 = arr_1 + arr_2\n",
    "# Los intervalos representan el número de opciones disponibles (del 2 al 12 = 11)\n",
    "# La densidad devuelve la frecuencia de cada intervalo\n",
    "# El rango obtiene la tupla con el intervalo del intervalo de interés\n",
    "# acumulativo = Verdadero: usa una distribución acumulativa\n",
    "# histtype = 'step': genera un gráfico de líneas\n",
    "# orientación = 'horizontal'\n",
    "# color = 'naranja': cambia el color de la barra\n",
    "plt.hist(arr_3, bins=11, density=True, stacked=True)"
   ]
  },
  {
   "cell_type": "markdown",
   "metadata": {},
   "source": [
    "### Bar Charts"
   ]
  },
  {
   "cell_type": "code",
   "execution_count": null,
   "metadata": {},
   "outputs": [],
   "source": [
    "# Analizar de dónde obtiene Francia su electricidad\n",
    "x = ['Nuclear', 'Hydro', 'Coal', 'Gas', 'Solar', 'Wind', 'Other']\n",
    "per_1 = [71, 10, 3, 7, 2, 4, 3]\n",
    "# Variación del uso del gráfico\n",
    "variance = [8, 3, 1, 3, 1, 2, 1]\n",
    "# barh crea un gráfico horizontal\n",
    "# También yerr, cambia el color del error con ecolor\n",
    "# plt.bar(x, per_1, color='purple', yerr=variance)\n",
    "\n",
    "# Muestra los porcentajes de hombres y mujeres en ingeniería\n",
    "m_eng = (76, 85, 86, 88, 93)\n",
    "f_eng = (24, 15, 14, 12, 7)\n",
    "\n",
    "# Obtener valores espaciados uniformemente para cada intervalo\n",
    "spc = np.arange(5)\n",
    "\n",
    "# Trazar barras para hombres y mujeres\n",
    "# También se pueden añadir yerr, xerr,\n",
    "# plt.bar(spc, m_eng, width=0.45, label='Male', edgecolor='k')\n",
    "# plt.bar(spc + 0.45, f_eng, width=0.45, label='Female', edgecolor='k')\n",
    "\n",
    "# Definir los nombres de las x marcas y colocarlas en el centro de las barras\n",
    "# plt.xticks(spc + 0.45 / 2, ('Aero', 'Chem', 'Civil', 'Elec', 'Mech'))\n",
    "\n",
    "# Trazar profesores por sexo\n",
    "\n",
    "t_type = ['Kind', 'Elem', 'Sec', 'Spec']\n",
    "m_teach = np.array([2, 20, 44, 14])\n",
    "f_teach = np.array([98, 80, 56, 86])\n",
    "ind = [x for x, _ in enumerate(t_type)]\n",
    "\n",
    "# Traza barras apiladas para hombres y luego para mujeres debajo\n",
    "plt.bar(ind, m_teach, width=0.45, label='Male', bottom=f_teach)\n",
    "plt.bar(ind, f_teach, width=0.45, label='Female')\n",
    "\n",
    "plt.legend(loc='lower right')"
   ]
  },
  {
   "cell_type": "markdown",
   "metadata": {},
   "source": [
    "### Graficos circulares"
   ]
  },
  {
   "cell_type": "code",
   "execution_count": null,
   "metadata": {},
   "outputs": [],
   "source": [
    "import random\n",
    "\n",
    "fig_6 = plt.figure(figsize=(8,5),dpi=100)\n",
    "axes_6 = fig_6.add_axes([0.1,0.1,0.9,0.9])\n",
    "\n",
    "# Crea un gráfico circular del número de Pokémon por tipo\n",
    "types = ['Water', 'Normal', 'Flying', 'Grass', 'Psychic', 'Bug', 'Fire', 'Poison',\n",
    "'Ground', 'Rock', 'Fighting', 'Dark', 'Steel', 'Electric', 'Dragon', 'Fairy',\n",
    "'Ghost', 'Ice']\n",
    "poke_num = [133, 109, 101, 98, 85, 77, 68, 66, 65, 60, 57, 54, 53, 51, 50, 50, 46, 40]\n",
    "\n",
    "# Generar una matriz de colores aleatoria (use valores más bajos para oscurecer)\n",
    "\n",
    "colors = []\n",
    "for i in range(18):\n",
    "    rgb = (random.uniform(0, .5), random.uniform(0, .5), random.uniform(0, .5))\n",
    "    colors.append(rgb)\n",
    "    \n",
    "# Explotar la primera porción más grande\n",
    "\n",
    "explode = [0] * 18\n",
    "explode[0] = 0.2\n",
    "\n",
    "# Proporcionar valores, qué expandir y en qué medida, etiquetas, colores, porcentaje de valores,\n",
    "# si se debe sombrear, cantidad a rotar, color del texto del gráfico circular\n",
    "plt.pie(poke_num, explode=explode, labels=types, colors=colors, \n",
    "                                   autopct='%1.0f%%', shadow=True, startangle=140, \n",
    "                                   textprops=dict(color=\"w\"))\n",
    "# Crea una leyenda a la derecha y muévete fuera del gráfico circular con un ancho de punto de eje de 1 a 1,5\n",
    "plt.legend(loc='right', bbox_to_anchor=(1, 0, 0.5, 1))"
   ]
  },
  {
   "cell_type": "markdown",
   "metadata": {},
   "source": [
    "### Series de tiempo"
   ]
  },
  {
   "cell_type": "code",
   "execution_count": null,
   "metadata": {},
   "outputs": [],
   "source": [
    "import datetime\n",
    "\n",
    "# Mostraré otras maneras de hacerlo cuando aborde las finanzas de Matplotlib.\n",
    "# Obtener un archivo CSV de Yahoo GOOG y convertirlo a una matriz de NumPy.\n",
    "# https://finance.yahoo.com/quote/GOOG/history/\n",
    "\n",
    "goog_data = pd.read_csv('GOOG.csv')\n",
    "goog_data_np = goog_data.to_numpy()\n",
    "# Obtener una matriz de precios en la quinta columna\n",
    "goog_cp = goog_data_np[:,4]\n",
    "goog_cp\n",
    "\n",
    "# Obtener una matriz NumPy con solo días de la semana entre fechas, excluyendo los días festivos\n",
    "holidays = [datetime.datetime(2020,5,25), datetime.datetime(2020,8,19)]\n",
    "date_arr = pd.bdate_range(start='5/20/2020', end='8/19/2020', \n",
    "                          freq='C',\n",
    "                         holidays=holidays)\n",
    "date_arr_np = date_arr.to_numpy()\n",
    "\n",
    "fig_7 = plt.figure(figsize=(8,5),dpi=100)\n",
    "axes_7 = fig_7.add_axes([0.1,0.1,0.9,0.9])\n",
    "plt.plot(date_arr_np, goog_cp)"
   ]
  },
  {
   "cell_type": "markdown",
   "metadata": {},
   "source": [
    "### Scatterplots"
   ]
  },
  {
   "cell_type": "code",
   "execution_count": null,
   "metadata": {},
   "outputs": [],
   "source": [
    "# Matriz de países\n",
    "cnt_arr = np.array(['Australia','Brazil','Canada','Chile','France','Germany','Greece',\n",
    "                   'Iceland','India','Iran','Italy','Mexico','New Zealand','Nigeria',\n",
    "                   'Norway','Pakistan','Peru','Russia','Saudi Arabia','Singapore',\n",
    "                   'South Africa','Spain','Sweden','Turkey','UK','US'])\n",
    "# Tasa de mortalidad por cada 100.000 habitantes por coronavirus\n",
    "dr_arr = np.array([1.8,53,24.5,56.5,45.4,11.2,2.2,\n",
    "                   2.8,4,24.6,58.6,46.3,.5,.5,\n",
    "                   4.9,2.9,83.3,11,10.4,.5,\n",
    "                   21.5,61.6,56.9,7.3,62.4,52.9])\n",
    "# Casos confirmados diariamente (Pruebas)\n",
    "test_arr = np.array([110,7197,600,1862,1636,1103,35,\n",
    "                   10,295,1658,1226,2490,8,243,\n",
    "                   48,1395,1101,4447,1443,280,\n",
    "                   2830,1602,447,1205,1546,24988])\n",
    "# Tamaño del punto Casos confirmados\n",
    "cc_arr = np.array([24236,3456652,125408,390037,256534,229706,7684,\n",
    "                   2035,2836925,350279,255278,537031,1654,50488,\n",
    "                   10162,290445,549321,935066,302686,56031,\n",
    "                   596060,370867,85411,253108,323008,5529824])\n",
    "cc_arr_sm = cc_arr / 1000\n",
    "color_arr = np.random.rand(26)\n",
    "\n",
    "plt.title('Death Rate per 100k vs. Confirmed Cases')\n",
    "plt.xlabel('Death Rate per 100k')\n",
    "plt.ylabel('Confirmed Cases')\n",
    "plt.scatter(dr_arr,test_arr,s=cc_arr_sm,c=color_arr,alpha=0.5)"
   ]
  },
  {
   "cell_type": "markdown",
   "metadata": {},
   "source": [
    "### mapas de calor"
   ]
  },
  {
   "cell_type": "code",
   "execution_count": null,
   "metadata": {},
   "outputs": [],
   "source": [
    "# Un mapa de calor es una representación codificada por colores de los datos de una lista 2D\n",
    "symptoms = [\"Coronavirus\",\"Influenza\",\"Pneumonia\",\"Dyspnea\"]\n",
    "dates = [\"Jun28\",\"Jul05\",\"Jul12\",\"Jul19\",\"Jul26\",\"Aug02\",\"Aug09\",\"Aug16\",\"Aug21\"]\n",
    "symp_per = np.array([[5.2, 5.5, 5.7, 5.6, 5.3, 5.1, 5.0, 4.9, 5.3],\n",
    "                    [3.5, 4.0, 4.3, 3.9, 3.5, 3.2, 2.7, 2.2, 2.0],\n",
    "                    [1.8, 2.2, 2.3, 2.2, 2.1, 1.9, 1.7, 1.4, 1.3],\n",
    "                    [1.0, 1.1, 1.1, 1.0, 0.9, 0.8, 0.8, 0.8, 0.7]])\n",
    "\n",
    "fig_10, axes_10 = plt.subplots()\n",
    "# Define los datos a utilizar y el mapa de colores\n",
    "im = axes_10.imshow(symp_per, cmap=\"Wistia\")\n",
    "\n",
    "# Agregar marcas en los puntos de datos y las etiquetas\n",
    "axes_10.set_xticks(np.arange(len(dates)))\n",
    "axes_10.set_yticks(np.arange(len(symptoms)))\n",
    "axes_10.set_xticklabels(dates)\n",
    "axes_10.set_yticklabels(symptoms)\n",
    "\n",
    "# Girar las etiquetas en la parte inferior para que no se superpongan\n",
    "plt.setp(axes_10.get_xticklabels(), rotation=45, ha=\"right\",\n",
    "         rotation_mode=\"anchor\")\n",
    "\n",
    "# iterar sobre las dimensiones de los datos y crear anotaciones de texto.\n",
    "for i in range(len(symptoms)):\n",
    "    for j in range(len(dates)):\n",
    "        text = axes_10.text(j, i, symp_per[i, j],\n",
    "                       ha=\"center\", va=\"center\", color=\"k\",fontweight=\"bold\")\n",
    "        \n"
   ]
  }
 ],
 "metadata": {
  "kernelspec": {
   "display_name": "Python 3 (ipykernel)",
   "language": "python",
   "name": "python3"
  },
  "language_info": {
   "codemirror_mode": {
    "name": "ipython",
    "version": 3
   },
   "file_extension": ".py",
   "mimetype": "text/x-python",
   "name": "python",
   "nbconvert_exporter": "python",
   "pygments_lexer": "ipython3",
   "version": "3.13.2"
  }
 },
 "nbformat": 4,
 "nbformat_minor": 4
}
